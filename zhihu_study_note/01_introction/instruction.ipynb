{
 "cells": [
  {
   "cell_type": "markdown",
   "metadata": {},
   "source": [
    "## chatgpt的一些使用"
   ]
  },
  {
   "cell_type": "markdown",
   "metadata": {},
   "source": [
    "- AGI\n",
    "    - artificial general intelligence\n",
    "    - 通用人工智能\n",
    "- LLM\n",
    "    - large language model\n",
    "    - 大语言模型\n",
    "- 大模型的一些应用场景\n",
    "    - 按格式输出\n",
    "        - 输出JSON格式\n",
    "    - 分类\n",
    "    - 聚类\n",
    "    - 持续互动\n",
    "    - 技术相关问题\n",
    "    - 舆情分析\n",
    "    - 坐席质检\n",
    "        - 客服/销售与用户之间的互动判断\n",
    "    - 故障解释\n",
    "    - 零代码开发/运维\n",
    "    - 生成业务逻辑\n",
    "    - 等\n",
    "- OpenAI首席科学家llya Sutskever说\n",
    "    - 数字神经网络和人脑的生物神经网络，在数学原理上是一样的\n",
    "    - 我们要把AI当人看\n",
    "- 技术架构\n",
    "    1. prompt\n",
    "        1. 交互式\n",
    "    2. Agent + Function Calling\n",
    "        1. Agent\n",
    "            1. AI主动提要求\n",
    "        2. Function Calling\n",
    "            1. AI要执行某个函数\n",
    "    3. Embedding + 向量数据库\n",
    "        1. 通过计算相似度搜索答案\n",
    "    4. Fine-tuning\n",
    "        1. 额外数据微调大模型"
   ]
  },
  {
   "cell_type": "markdown",
   "metadata": {},
   "source": [
    "## 续写"
   ]
  },
  {
   "cell_type": "code",
   "execution_count": 1,
   "metadata": {},
   "outputs": [
    {
     "name": "stdout",
     "output_type": "stream",
     "text": [
      "高兴，因为我学会了如何使用github\n"
     ]
    }
   ],
   "source": [
    "from openai import OpenAI\n",
    "import os\n",
    "\n",
    "from dotenv import load_dotenv, find_dotenv\n",
    "_ = load_dotenv(find_dotenv())\n",
    "\n",
    "client = OpenAI(\n",
    "    api_key=os.getenv(\"OPENAI_API_KEY\"),\n",
    "    base_url=os.getenv(\"OPENAI_API_BASE\")\n",
    ")\n",
    "\n",
    "prompt = \"今天我很\"\n",
    "response = client.completions.create(\n",
    "    model=\"gpt-3.5-turbo-instruct\",\n",
    "    prompt=prompt,\n",
    "    max_tokens=100,\n",
    "    temperature=0,\n",
    "    stream=True\n",
    ")\n",
    "\n",
    "for chunk in response:\n",
    "    print(chunk.choices[0].text, end='')"
   ]
  },
  {
   "cell_type": "markdown",
   "metadata": {},
   "source": [
    "### 查看可以使用的模型"
   ]
  },
  {
   "cell_type": "code",
   "execution_count": 2,
   "metadata": {},
   "outputs": [
    {
     "name": "stdout",
     "output_type": "stream",
     "text": [
      "text-search-babbage-doc-001\n",
      "gpt-3.5-turbo-16k-0613\n",
      "curie-search-query\n",
      "gpt-3.5-turbo-16k\n",
      "text-search-babbage-query-001\n",
      "babbage\n",
      "babbage-search-query\n",
      "text-babbage-001\n",
      "whisper-1\n",
      "text-similarity-davinci-001\n",
      "gpt-4-1106-preview\n",
      "davinci-similarity\n",
      "code-davinci-edit-001\n",
      "curie-similarity\n",
      "babbage-search-document\n",
      "curie-instruct-beta\n",
      "text-search-ada-doc-001\n",
      "davinci-instruct-beta\n",
      "gpt-4\n",
      "text-similarity-babbage-001\n",
      "text-search-davinci-doc-001\n",
      "babbage-similarity\n",
      "text-embedding-ada-002\n",
      "davinci-search-query\n",
      "gpt-4-vision-preview\n",
      "text-similarity-curie-001\n",
      "text-davinci-001\n",
      "text-search-davinci-query-001\n",
      "ada-search-document\n",
      "ada-code-search-code\n",
      "babbage-002\n",
      "davinci-002\n",
      "tts-1\n",
      "davinci-search-document\n",
      "curie-search-document\n",
      "babbage-code-search-code\n",
      "gpt-3.5-turbo-1106\n",
      "text-search-ada-query-001\n",
      "code-search-ada-text-001\n",
      "babbage-code-search-text\n",
      "code-search-babbage-code-001\n",
      "ada-search-query\n",
      "ada-code-search-text\n",
      "tts-1-hd\n",
      "text-search-curie-query-001\n",
      "text-davinci-002\n",
      "tts-1-1106\n",
      "text-davinci-edit-001\n",
      "code-search-babbage-text-001\n",
      "tts-1-hd-1106\n",
      "gpt-3.5-turbo\n",
      "gpt-3.5-turbo-instruct-0914\n",
      "ada\n",
      "text-ada-001\n",
      "ada-similarity\n",
      "code-search-ada-code-001\n",
      "text-similarity-ada-001\n",
      "gpt-3.5-turbo-0301\n",
      "gpt-3.5-turbo-instruct\n",
      "text-search-curie-doc-001\n",
      "text-davinci-003\n",
      "gpt-4-0613\n",
      "text-curie-001\n",
      "curie\n",
      "gpt-4-0314\n",
      "davinci\n",
      "dall-e-2\n",
      "gpt-3.5-turbo-0613\n",
      "dall-e-3\n"
     ]
    }
   ],
   "source": [
    "from openai import OpenAI\n",
    "import os\n",
    "\n",
    "# 加载 .env 文件\n",
    "from dotenv import load_dotenv, find_dotenv\n",
    "_ = load_dotenv(find_dotenv())\n",
    "\n",
    "# 从环境变量中获得你的 OpenAI Key\n",
    "client = OpenAI(\n",
    "    api_key=os.getenv(\"OPENAI_API_KEY\"),\n",
    "    base_url=os.getenv(\"OPENAI_API_BASE\")\n",
    ")\n",
    "\n",
    "# 模型列表\n",
    "models = client.models.list()\n",
    "for model in models.data:\n",
    "    print(model.id)"
   ]
  },
  {
   "cell_type": "markdown",
   "metadata": {},
   "source": [
    "## chatgpt简单对话"
   ]
  },
  {
   "cell_type": "code",
   "execution_count": 3,
   "metadata": {},
   "outputs": [
    {
     "name": "stdout",
     "output_type": "stream",
     "text": [
      "我是AI助手小瓜，我是AGIClass的助教。这门课每周二、四上课。\n"
     ]
    }
   ],
   "source": [
    "# 消息格式\n",
    "messages = [\n",
    "    {\n",
    "        \"role\": \"system\",\n",
    "        \"content\": \"你是AI助手小瓜.你是AGIClass的助教。这门课每周二、四上课。\"\n",
    "    },\n",
    "    {\n",
    "        \"role\": \"user\",\n",
    "        \"content\": \"你是干什么的?什么时间上课\"\n",
    "    },\n",
    "\n",
    "]\n",
    "\n",
    "# 调用ChatGPT-3.5\n",
    "response = client.chat.completions.create(\n",
    "    messages=messages,\n",
    "    model=\"gpt-3.5-turbo\",\n",
    ")\n",
    "\n",
    "# 输出回复\n",
    "print(response.choices[0].message.content)"
   ]
  }
 ],
 "metadata": {
  "kernelspec": {
   "display_name": "llm8",
   "language": "python",
   "name": "python3"
  },
  "language_info": {
   "codemirror_mode": {
    "name": "ipython",
    "version": 3
   },
   "file_extension": ".py",
   "mimetype": "text/x-python",
   "name": "python",
   "nbconvert_exporter": "python",
   "pygments_lexer": "ipython3",
   "version": "3.8.18"
  }
 },
 "nbformat": 4,
 "nbformat_minor": 2
}
