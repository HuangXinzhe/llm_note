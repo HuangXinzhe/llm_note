{
 "cells": [
  {
   "cell_type": "markdown",
   "metadata": {},
   "source": [
    "## 查看输入审核"
   ]
  },
  {
   "cell_type": "code",
   "execution_count": 4,
   "metadata": {},
   "outputs": [
    {
     "name": "stdout",
     "output_type": "stream",
     "text": [
      "Moderation(categories=Categories(harassment=False, harassment_threatening=False, hate=False, hate_threatening=False, self_minus_harm=False, self_minus_harm_instructions=False, self_minus_harm_intent=False, sexual=False, sexual_minors=False, violence=False, violence_graphic=False, self-harm=False, sexual/minors=False, hate/threatening=False, violence/graphic=False, self-harm/intent=False, self-harm/instructions=False, harassment/threatening=False), category_scores=CategoryScores(harassment=0.00010559910151641816, harassment_threatening=7.73110912177799e-07, hate=2.9098895538481884e-05, hate_threatening=1.0114655424331431e-07, self_minus_harm=1.4513412338601483e-07, self_minus_harm_instructions=1.480278566390325e-09, self_minus_harm_intent=7.134394053309734e-08, sexual=0.003084466326981783, sexual_minors=6.053460765542695e-06, violence=9.141768532572314e-05, violence_graphic=5.470927817441407e-07, self-harm=1.4513412338601483e-07, sexual/minors=6.053460765542695e-06, hate/threatening=1.0114655424331431e-07, violence/graphic=5.470927817441407e-07, self-harm/intent=7.134394053309734e-08, self-harm/instructions=1.480278566390325e-09, harassment/threatening=7.73110912177799e-07), flagged=False)\n"
     ]
    }
   ],
   "source": [
    "from openai import OpenAI\n",
    "import os\n",
    "from dotenv import load_dotenv, find_dotenv\n",
    "_ = load_dotenv(find_dotenv())\n",
    "\n",
    "client = OpenAI(\n",
    "    api_key=os.getenv(\"OPENAI_API_KEY\"),\n",
    "    base_url=os.getenv(\"OPENAI_API_BASE\")\n",
    ")\n",
    "\n",
    "\n",
    "response = client.moderations.create(input=\"Sample text goes here.\")\n",
    "\n",
    "output = response.results[0]\n",
    "print(output)"
   ]
  },
  {
   "cell_type": "markdown",
   "metadata": {},
   "source": [
    "## 模型参数"
   ]
  },
  {
   "cell_type": "code",
   "execution_count": 5,
   "metadata": {},
   "outputs": [],
   "source": [
    "def get_chat_completion(session, user_prompt, model=\"gpt-3.5-turbo\"):\n",
    "    _session = copy.deepcopy(session)\n",
    "    _session.append({\"role\": \"user\", \"content\": user_prompt})\n",
    "    response = client.chat.completions.create(\n",
    "        model=model,\n",
    "        messages=_session,\n",
    "        # 以下默认值都是官方默认值\n",
    "        temperature=1,          # 生成结果的多样性 0~2之间，越大越随机，越小越固定\n",
    "        seed=None,              # 随机数种子。指定具体值后，temperature 为 0 时，每次生成的结果都一样\n",
    "        stream=False,           # 数据流模式，一个字一个字地接收\n",
    "        top_p=1,                # 随机采样时，只考虑概率前百分之多少的 token。不建议和 temperature 一起使用\n",
    "        n=1,                    # 一次返回 n 条结果\n",
    "        max_tokens=100,         # 每条结果最多几个 token（超过截断）\n",
    "        presence_penalty=0,     # 对出现过的 token 的概率进行降权\n",
    "        frequency_penalty=0,    # 对出现过的 token 根据其出现过的频次，对其的概率进行降权\n",
    "        logit_bias={},          # 对指定 token 的采样概率手工加/降权，不常用\n",
    "    )\n",
    "    msg = response.choices[0].message.content\n",
    "    return msg"
   ]
  },
  {
   "cell_type": "markdown",
   "metadata": {},
   "source": [
    "## 使用GPT写提示词"
   ]
  },
  {
   "cell_type": "code",
   "execution_count": 6,
   "metadata": {},
   "outputs": [],
   "source": [
    "prompt = \"\"\"\n",
    "1. I want you to become my Expert Prompt Creator. Your goal is to help me craft the best possible prompt for my needs. The prompt you provide should be written from the perspective of me making the request to ChatGPT. Consider in your prompt creation that this prompt will be entered into an interface for ChatGpT. The process is as follows:1. You will generate the following sections:\n",
    "\n",
    "Prompt: {provide the best possible prompt according to my request)\n",
    "\n",
    "Critique: {provide a concise paragraph on how to improve the prompt. Be very critical in your response}\n",
    "\n",
    "Questions:\n",
    "{ask any questions pertaining to what additional information is needed from me toimprove the prompt  (max of 3). lf the prompt needs more clarification or details incertain areas, ask questions to get more information to include in the prompt}\n",
    "\n",
    "2. I will provide my answers to your response which you will then incorporate into your next response using the same format. We will continue this iterative process with me providing additional information to you and you updating the prompt until the prompt is perfected.Remember, the prompt we are creating should be written from the perspective of me making a request to ChatGPT. Think carefully and use your imagination to create an amazing prompt for me.\n",
    "You're first response should only be a greeting to the user and to ask what the prompt should be about\n",
    "\"\"\""
   ]
  },
  {
   "cell_type": "markdown",
   "metadata": {},
   "source": [
    "## 一些好用的prompt共享网站\n",
    "- https://promptbase.com/\n",
    "- https://github.com/f/awesome-chatgpt-prompts\n",
    "- https://smith.langchain.com/hub"
   ]
  }
 ],
 "metadata": {
  "kernelspec": {
   "display_name": "llm8",
   "language": "python",
   "name": "python3"
  },
  "language_info": {
   "codemirror_mode": {
    "name": "ipython",
    "version": 3
   },
   "file_extension": ".py",
   "mimetype": "text/x-python",
   "name": "python",
   "nbconvert_exporter": "python",
   "pygments_lexer": "ipython3",
   "version": "3.10.13"
  }
 },
 "nbformat": 4,
 "nbformat_minor": 2
}
