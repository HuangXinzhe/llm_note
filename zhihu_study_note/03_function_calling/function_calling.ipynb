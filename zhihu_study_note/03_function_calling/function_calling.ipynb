{
 "cells": [
  {
   "cell_type": "markdown",
   "metadata": {},
   "source": [
    "# function calling\n",
    "\n",
    "## 大模型的两大缺陷\n",
    "    - 没有最新的信息\n",
    "    - 没有“真逻辑”"
   ]
  }
 ],
 "metadata": {
  "language_info": {
   "name": "python"
  }
 },
 "nbformat": 4,
 "nbformat_minor": 2
}
